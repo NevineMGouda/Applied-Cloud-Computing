{
 "cells": [
  {
   "cell_type": "markdown",
   "metadata": {},
   "source": [
    "# Computer Lab 2, Part I"
   ]
  },
  {
   "cell_type": "markdown",
   "metadata": {},
   "source": [
    "This notebook consists of instructions, exercises and questions that form the practical part of Lab II, Part I. In this assignment, you will learn the basics of the OpenStack Python APIs that can be used to interact directly with the IaaS services Keystone (Identity), Glance (Image) and Nova (compute). Please prepare your solution and answers to questions directly in this notebook, and export it to PDF. Upload that PDF as to the student portal to complete Part I of the Lab.  "
   ]
  },
  {
   "cell_type": "markdown",
   "metadata": {},
   "source": [
    "## Task - 1"
   ]
  },
  {
   "cell_type": "code",
   "execution_count": 32,
   "metadata": {},
   "outputs": [],
   "source": [
    "# Importing Required python libraries\n",
    "from os import environ as env\n",
    "import keystoneclient.v3.client as ksclient"
   ]
  },
  {
   "cell_type": "markdown",
   "metadata": {},
   "source": [
    "To establish a client connection, we will need to pass a dictionary with information about the tenant, user, credentials and the API Identity endpoint. Here, I have sourced the \"openrc.sh file\" obtained from the Horizon dashboard in the underlying shell prior to starting the notebook. Hence, in order to actually run the code below, you would need to do the same with your own credentials. "
   ]
  },
  {
   "cell_type": "code",
   "execution_count": 33,
   "metadata": {},
   "outputs": [],
   "source": [
    "# Establishing a client connection by creating KeyStone Client\n",
    "keystone = ksclient.Client(auth_url=env['OS_AUTH_URL'],\n",
    "                           username=env['OS_USERNAME'],\n",
    "                           password=env['OS_PASSWORD'],\n",
    "                           project_name=env['OS_PROJECT_NAME'],\n",
    "                           project_domain_name=env['OS_USER_DOMAIN_NAME'],\n",
    "                           project_id=env['OS_PROJECT_ID'],\n",
    "                           version=env['OS_IDENTITY_API_VERSION'],\n",
    "                           user_domain_name=env['OS_USER_DOMAIN_NAME'],\n",
    "                           region_name=env['OS_REGION_NAME'])"
   ]
  },
  {
   "cell_type": "markdown",
   "metadata": {},
   "source": [
    "Next command will collect all the available endpoints in keystone."
   ]
  },
  {
   "cell_type": "code",
   "execution_count": 24,
   "metadata": {},
   "outputs": [],
   "source": [
    "endpoints = keystone.service_catalog.get_endpoints()"
   ]
  },
  {
   "cell_type": "markdown",
   "metadata": {
    "collapsed": true
   },
   "source": [
    "Next section will print the services with associated infromation."
   ]
  },
  {
   "cell_type": "code",
   "execution_count": 19,
   "metadata": {},
   "outputs": [
    {
     "name": "stdout",
     "output_type": "stream",
     "text": [
      "{u'admin': 11, u'internal': 11, u'public': 11}\n"
     ]
    }
   ],
   "source": [
    "# Printing all the unique interfaces and their counts\n",
    "unique_interfaces_count={}\n",
    "for endpoint in endpoints:\n",
    "    for edp in endpoints[endpoint]:\n",
    "        if edp['interface'] not in unique_interfaces_count:\n",
    "            unique_interfaces_count[edp['interface']] = 1\n",
    "        else:\n",
    "            unique_interfaces_count[edp['interface']] += 1\n",
    "print unique_interfaces_count"
   ]
  },
  {
   "cell_type": "code",
   "execution_count": 20,
   "metadata": {},
   "outputs": [
    {
     "name": "stdout",
     "output_type": "stream",
     "text": [
      "service:  compute , region:  UPPMAX , public endpoint:  https://uppmax.cloud.snic.se:8774/v2.1/2344cddf33a1412b846290a9fb90b762\n",
      "service:  network , region:  UPPMAX , public endpoint:  https://uppmax.cloud.snic.se:9696\n",
      "service:  volumev2 , region:  UPPMAX , public endpoint:  https://uppmax.cloud.snic.se:8776/v2/2344cddf33a1412b846290a9fb90b762\n",
      "service:  volumev3 , region:  UPPMAX , public endpoint:  https://uppmax.cloud.snic.se:8776/v3/2344cddf33a1412b846290a9fb90b762\n",
      "service:  image , region:  UPPMAX , public endpoint:  https://uppmax.cloud.snic.se:9292\n",
      "service:  metering , region:  UPPMAX , public endpoint:  https://uppmax.cloud.snic.se:8777\n",
      "service:  cloudformation , region:  UPPMAX , public endpoint:  https://uppmax.cloud.snic.se:8000/v1\n",
      "service:  volume , region:  UPPMAX , public endpoint:  https://uppmax.cloud.snic.se:8776/v1/2344cddf33a1412b846290a9fb90b762\n",
      "service:  orchestration , region:  UPPMAX , public endpoint:  https://uppmax.cloud.snic.se:8004/v1/2344cddf33a1412b846290a9fb90b762\n",
      "service:  object-store , region:  UPPMAX , public endpoint:  https://uppmax.cloud.snic.se:8080/v1/AUTH_2344cddf33a1412b846290a9fb90b762\n",
      "service:  identity , region:  UPPMAX , public endpoint:  https://uppmax.cloud.snic.se:5000/v3\n"
     ]
    }
   ],
   "source": [
    "# Printing all the Public interfaces and their equivalent URL \n",
    "for endpoint in endpoints:\n",
    "    for edp in endpoints[endpoint]:\n",
    "        if edp['interface'] == 'public':\n",
    "            print 'service: ', endpoint, ', region: ', edp['region'], ', Public endpoint: ', edp['url']"
   ]
  },
  {
   "cell_type": "code",
   "execution_count": 29,
   "metadata": {},
   "outputs": [
    {
     "name": "stdout",
     "output_type": "stream",
     "text": [
      "service:  compute , region:  UPPMAX , Internal endpoint:  http://172.24.0.165:8774/v2.1/2344cddf33a1412b846290a9fb90b762\n",
      "service:  network , region:  UPPMAX , Internal endpoint:  http://172.24.0.165:9696\n",
      "service:  volumev2 , region:  UPPMAX , Internal endpoint:  http://172.24.0.165:8776/v2/2344cddf33a1412b846290a9fb90b762\n",
      "service:  volumev3 , region:  UPPMAX , Internal endpoint:  http://172.24.0.165:8776/v3/2344cddf33a1412b846290a9fb90b762\n",
      "service:  image , region:  UPPMAX , Internal endpoint:  http://172.24.0.165:9292\n",
      "service:  metering , region:  UPPMAX , Internal endpoint:  http://172.24.0.165:8777\n",
      "service:  cloudformation , region:  UPPMAX , Internal endpoint:  http://172.24.0.165:8000/v1\n",
      "service:  volume , region:  UPPMAX , Internal endpoint:  http://172.24.0.165:8776/v1/2344cddf33a1412b846290a9fb90b762\n",
      "service:  orchestration , region:  UPPMAX , Internal endpoint:  http://172.24.0.165:8004/v1/2344cddf33a1412b846290a9fb90b762\n",
      "service:  object-store , region:  UPPMAX , Internal endpoint:  http://172.24.0.165:8080/v1/AUTH_2344cddf33a1412b846290a9fb90b762\n",
      "service:  identity , region:  UPPMAX , Internal endpoint:  http://172.24.0.165:5000/v3\n"
     ]
    }
   ],
   "source": [
    "# Printing all the Internal interfaces and their equivalent URL \n",
    "for endpoint in endpoints:\n",
    "    for edp in endpoints[endpoint]:\n",
    "        if edp['interface'] == 'internal':\n",
    "            print 'service: ', endpoint, ', region: ', edp['region'], ', Internal endpoint: ', edp['url']"
   ]
  },
  {
   "cell_type": "markdown",
   "metadata": {},
   "source": [
    "\n",
    "<a id='public_and_internal'></a>"
   ]
  },
  {
   "cell_type": "code",
   "execution_count": 23,
   "metadata": {},
   "outputs": [
    {
     "name": "stdout",
     "output_type": "stream",
     "text": [
      "service:  compute , interface:  internal , region:  UPPMAX , internal endpoint:  http://172.24.0.165:8774/v2.1/2344cddf33a1412b846290a9fb90b762\n",
      "service:  compute , interface:  public , region:  UPPMAX , public endpoint:  https://uppmax.cloud.snic.se:8774/v2.1/2344cddf33a1412b846290a9fb90b762\n",
      "service:  network , interface:  internal , region:  UPPMAX , internal endpoint:  http://172.24.0.165:9696\n",
      "service:  network , interface:  public , region:  UPPMAX , public endpoint:  https://uppmax.cloud.snic.se:9696\n",
      "service:  volumev2 , interface:  public , region:  UPPMAX , public endpoint:  https://uppmax.cloud.snic.se:8776/v2/2344cddf33a1412b846290a9fb90b762\n",
      "service:  volumev2 , interface:  internal , region:  UPPMAX , internal endpoint:  http://172.24.0.165:8776/v2/2344cddf33a1412b846290a9fb90b762\n",
      "service:  volumev3 , interface:  internal , region:  UPPMAX , internal endpoint:  http://172.24.0.165:8776/v3/2344cddf33a1412b846290a9fb90b762\n",
      "service:  volumev3 , interface:  public , region:  UPPMAX , public endpoint:  https://uppmax.cloud.snic.se:8776/v3/2344cddf33a1412b846290a9fb90b762\n",
      "service:  image , interface:  public , region:  UPPMAX , public endpoint:  https://uppmax.cloud.snic.se:9292\n",
      "service:  image , interface:  internal , region:  UPPMAX , internal endpoint:  http://172.24.0.165:9292\n",
      "service:  metering , interface:  internal , region:  UPPMAX , internal endpoint:  http://172.24.0.165:8777\n",
      "service:  metering , interface:  public , region:  UPPMAX , public endpoint:  https://uppmax.cloud.snic.se:8777\n",
      "service:  cloudformation , interface:  public , region:  UPPMAX , public endpoint:  https://uppmax.cloud.snic.se:8000/v1\n",
      "service:  cloudformation , interface:  internal , region:  UPPMAX , internal endpoint:  http://172.24.0.165:8000/v1\n",
      "service:  volume , interface:  internal , region:  UPPMAX , internal endpoint:  http://172.24.0.165:8776/v1/2344cddf33a1412b846290a9fb90b762\n",
      "service:  volume , interface:  public , region:  UPPMAX , public endpoint:  https://uppmax.cloud.snic.se:8776/v1/2344cddf33a1412b846290a9fb90b762\n",
      "service:  orchestration , interface:  public , region:  UPPMAX , public endpoint:  https://uppmax.cloud.snic.se:8004/v1/2344cddf33a1412b846290a9fb90b762\n",
      "service:  orchestration , interface:  internal , region:  UPPMAX , internal endpoint:  http://172.24.0.165:8004/v1/2344cddf33a1412b846290a9fb90b762\n",
      "service:  object-store , interface:  public , region:  UPPMAX , public endpoint:  https://uppmax.cloud.snic.se:8080/v1/AUTH_2344cddf33a1412b846290a9fb90b762\n",
      "service:  object-store , interface:  internal , region:  UPPMAX , internal endpoint:  http://172.24.0.165:8080/v1/AUTH_2344cddf33a1412b846290a9fb90b762\n",
      "service:  identity , interface:  internal , region:  UPPMAX , internal endpoint:  http://172.24.0.165:5000/v3\n",
      "service:  identity , interface:  public , region:  UPPMAX , public endpoint:  https://uppmax.cloud.snic.se:5000/v3\n"
     ]
    }
   ],
   "source": [
    "\n",
    "# Printing all the Public AND Internal interfaces and their equivalent URL \n",
    "for endpoint in endpoints:\n",
    "    for edp in endpoints[endpoint]:\n",
    "        if edp['interface'] == 'public' or edp['interface'] == 'internal':\n",
    "            print 'service: ', endpoint, ', interface: ', edp['interface'],', region: ', edp['region'], ', '+edp['interface']+' endpoint: ', edp['url']"
   ]
  },
  {
   "cell_type": "markdown",
   "metadata": {},
   "source": [
    "## Questions:"
   ]
  },
  {
   "cell_type": "markdown",
   "metadata": {},
   "source": [
    "1. Explain the working of the code?\n",
    "  > The main objective of the code is for client authentication and obtaining all the endpoints available. Which is done using the following steps:\n",
    "    * Importing the 2 used libraries, ```os.environ``` and ```keystoneclient.v3.client```.\n",
    "    * Creating a KeyStone client using the authentication settings found in the envoriment variables (which are created using ```source <file\\>.sh``` command and accessed in python using ```os.environ``` library).\n",
    "    * Collecting the endpoints in the Keystone service.\n",
    "    * Loop over the endpoints and print the required data.\n",
    "  \n",
    "2. Why we need openrc file to run this code?\n",
    "  > The openrc file ```SNIC 2018_10-30-openrc.sh``` is crucial to export all the enviroment variables for setting up our cloud setting. Which was accomplished by running the command ```source SNIC 2018_10-30-openrc.sh``` on the terminal. Otherwise the code will provide an error ```KeyError:'OS_USERNAME'```, meaning that it couldn't find the enviroment variable ```OS_USERNAME``` defined. Thus it is crucial to source the openrc file to be able to generate the KeyStone Client. \n",
    "3. The code shows information about the \"public\" endpoints. Modify the code to show both the \"public\" and \"internal\" endpoints?\n",
    "  > The code changes are available in [Cell7](#public_and_internal).\n",
    "4. What is the difference between \"internal\" and \"public\" endpoints?\n",
    "  > KeyStone is an OpenStack service that provides API client authentication, service discovery, and distributed multi-tenant authorization. Where an endpoint in keystone is the URL used to access the services available withtin OpenStack. There is 3 types of URLs/endpoints for each service( services such as compute, volume, image, network, ojbect-store, etc). \n",
    "      1. Admin endpoint: It basically provides the URL for the adminstration type users. \n",
    "      2. Internal endpoint: Whereas this provides the Internal URL which allows OpenStack services to communicate with each other.\n",
    "      3. Public endpoint: Where it provides the Public URL for everyone else requiring access to the service endpoint.\n",
    "    \n",
    "    \n",
    "  "
   ]
  },
  {
   "cell_type": "markdown",
   "metadata": {
    "collapsed": true
   },
   "source": [
    "## Task - 2"
   ]
  },
  {
   "cell_type": "markdown",
   "metadata": {
    "collapsed": true
   },
   "source": [
    "In this task I will write a small python program using Keystone and Nova APIs to list all the available VMs in the project. \n",
    "\n",
    "Using the following links and the code available in Task-1. \n",
    "\n",
    "https://docs.openstack.org/python-novaclient/pike/ https://docs.openstack.org/python-novaclient/pike/reference/api/index.html"
   ]
  },
  {
   "cell_type": "code",
   "execution_count": 67,
   "metadata": {},
   "outputs": [],
   "source": [
    "# Importing the required libraries\n",
    "from keystoneauth1 import loading\n",
    "from keystoneauth1 import session\n",
    "from novaclient import client\n",
    "\n",
    "# load the password pluging\n",
    "loader = loading.get_plugin_loader('password')\n",
    "\n",
    "# Creating an Authentication Object\n",
    "auth = loader.load_from_options(auth_url=env['OS_AUTH_URL'],\n",
    "                           username=env['OS_USERNAME'],\n",
    "                           password=env['OS_PASSWORD'],\n",
    "                           project_name=env['OS_PROJECT_NAME'],\n",
    "                           project_domain_name=env['OS_USER_DOMAIN_NAME'],\n",
    "                           project_id=env['OS_PROJECT_ID'],\n",
    "                           user_domain_name=env['OS_USER_DOMAIN_NAME'])\n",
    "\n",
    "# Creating a Session Object from auth object\n",
    "sess = session.Session(auth=auth)\n",
    "\n",
    "# Creating a Nova Client Object\n",
    "nova = client.Client(session=sess, region_name=env['OS_REGION_NAME'], version=\"2\")"
   ]
  },
  {
   "cell_type": "code",
   "execution_count": 68,
   "metadata": {},
   "outputs": [
    {
     "data": {
      "text/plain": [
       "[<Server: vm1>,\n",
       " <Server: Groot_C2>,\n",
       " <Server: jonasAwesomeVM>,\n",
       " <Server: swati>,\n",
       " <Server: Nea_vm1>,\n",
       " <Server: Lab2>,\n",
       " <Server: MonaIns>,\n",
       " <Server: Nevine>,\n",
       " <Server: tw-03>,\n",
       " <Server: ahmedC2>,\n",
       " <Server: jonasC2>,\n",
       " <Server: MinhPham_vm_test>,\n",
       " <Server: ghand_inst_c2>,\n",
       " <Server: vimmel>,\n",
       " <Server: sofiagranlof>,\n",
       " <Server: joosep_vm1>,\n",
       " <Server: sarahane>,\n",
       " <Server: joosep_stack_c2-my_instance1-b4i3qndtcw5y>,\n",
       " <Server: joosep_stack_c2-my_instance0-xpzt7vt52qoo>,\n",
       " <Server: Ibrahimovic>,\n",
       " <Server: nurre>,\n",
       " <Server: joc2_2>,\n",
       " <Server: frojd_C2>,\n",
       " <Server: fsandelin-my_instance1-m4vc4idzuuy5>,\n",
       " <Server: fsandelin-my_instance0-ruwwbehwd5gw>,\n",
       " <Server: Nea>,\n",
       " <Server: fabians_stack-my_instance0-3xwsknxwu4je>,\n",
       " <Server: fabians_stack-my_instance1-4p2qev7zgvop>,\n",
       " <Server: vm1_philip>,\n",
       " <Server: ProjectAir>,\n",
       " <Server: SoBeRBot94's Instance>,\n",
       " <Server: f_c2_init>,\n",
       " <Server: NiklasPalmC2>,\n",
       " <Server: lab2-kr-part2>,\n",
       " <Server: hungphan_automation_vm>,\n",
       " <Server: fabian_c2>,\n",
       " <Server: hungphan_vm1>,\n",
       " <Server: ljm2>,\n",
       " <Server: ljm1>,\n",
       " <Server: nknaga>,\n",
       " <Server: tw-01>,\n",
       " <Server: benni_c2>,\n",
       " <Server: c2-potatisKasper>,\n",
       " <Server: Edvin Lab2>,\n",
       " <Server: mona_com_ins>,\n",
       " <Server: NevineContext>,\n",
       " <Server: Erika_C2>,\n",
       " <Server: Johanna_C2>,\n",
       " <Server: vm1>,\n",
       " <Server: dmb1Remote>,\n",
       " <Server: tor_testVM>,\n",
       " <Server: MinhPham_VM>,\n",
       " <Server: VM1_SundmanC2>,\n",
       " <Server: vm1>,\n",
       " <Server: vm1_saranyaC2>,\n",
       " <Server: dmb1>,\n",
       " <Server: vm1grooten777>,\n",
       " <Server: A2>,\n",
       " <Server: ahdac2>,\n",
       " <Server: Anu_lab2>,\n",
       " <Server: fsandelin-labb2>]"
      ]
     },
     "execution_count": 68,
     "metadata": {},
     "output_type": "execute_result"
    }
   ],
   "source": [
    "# Printing the Virtual Machines\n",
    "nova.servers.list()"
   ]
  },
  {
   "cell_type": "markdown",
   "metadata": {},
   "source": [
    "## Task - 3:"
   ]
  },
  {
   "cell_type": "markdown",
   "metadata": {},
   "source": [
    "Try to measure the speed with which you can put and get files to and from volumes. Conduct your experiment several times to gather statistic and plot a) A estimated distribution of the time taken (in wall clock) to write and read a file of size 10MB in your volume and b) vary the size of the file from 10kB to 100MB and plot the read and write throughput (in MB/s) times as a function of file size (for the smaller data sizes, you might need to repeat the experiment many times and obtain a statistical average). Use \"Root\" disk as a reference point. Include the resulting graphs and a description of your experiment in the report."
   ]
  },
  {
   "cell_type": "markdown",
   "metadata": {},
   "source": [
    "### Part A\n",
    "In this part I calculated the time in seconds for reading and writing files from the Root directory into the newly attached Volume."
   ]
  },
  {
   "cell_type": "code",
   "execution_count": 11,
   "metadata": {},
   "outputs": [
    {
     "name": "stdout",
     "output_type": "stream",
     "text": [
      "Time for copying a 10MB file is 0.0210239887238 seconds\n",
      "Time for reading a 10MB file is 0.0820899009705 seconds\n"
     ]
    }
   ],
   "source": [
    "import time\n",
    "import shutil\n",
    "copy_start_time = time.time()\n",
    "shutil.copy('10MB.txt', 'Volume1/')\n",
    "copy_end_time = time.time()\n",
    "copy_total_time = copy_end_time - copy_start_time\n",
    "print \"Time for copying a 10MB file is\", copy_total_time, \"seconds\"\n",
    "\n",
    "read_start_time = time.time()\n",
    "f = open(\"Volume1/100MB.txt\", \"r\")\n",
    "f.read()\n",
    "read_end_time = time.time()\n",
    "read_total_time = read_end_time - read_start_time\n",
    "\n",
    "print \"Time for reading a 10MB file is\", read_total_time, \"seconds\""
   ]
  },
  {
   "cell_type": "markdown",
   "metadata": {},
   "source": [
    "### Part B\n",
    "Where in this part I looped over the dummy files created that correspond to the required file size and calculated the read and write time as above. Where I created two seperate charts for the read and write."
   ]
  },
  {
   "cell_type": "code",
   "execution_count": 51,
   "metadata": {},
   "outputs": [],
   "source": [
    "import glob, os\n",
    "import time\n",
    "import shutil\n",
    "data_points={}\n",
    "for file in glob.glob(\"*.txt\"):\n",
    "    data_points[file] = {}\n",
    "    if os.path.isfile('Volume1/'+file):\n",
    "        os.remove('Volume1/'+file)\n",
    "        \n",
    "    copy_start_time = time.time()\n",
    "    shutil.copy(file, 'Volume1/')\n",
    "    copy_end_time = time.time()\n",
    "    copy_total_time = round(copy_end_time - copy_start_time,5)\n",
    "    data_points[file][\"Copy_Time\"] = copy_total_time\n",
    "    \n",
    "\n",
    "    read_start_time = time.time()\n",
    "    f = open(file, \"r\")\n",
    "    f.read()\n",
    "    read_end_time = time.time()\n",
    "    read_total_time = round(read_end_time - read_start_time,5)\n",
    "    data_points[file][\"Read_Time\"] = read_total_time\n",
    "    file_size = file[:file.find(\".txt\")-2]\n",
    "    if \"MB\" in file:\n",
    "        copy_throughput = float(file_size)/copy_total_time\n",
    "        read_throughput = float(file_size)/read_total_time\n",
    "    elif \"kB\" in file:\n",
    "        copy_throughput = (float(file_size)/1024)/copy_total_time\n",
    "        read_throughput = (float(file_size)/1024)/read_total_time\n",
    "    data_points[file][\"CopyThroughPut\"] = copy_throughput\n",
    "    data_points[file][\"ReadThroughPut\"] = read_throughput\n"
   ]
  },
  {
   "cell_type": "code",
   "execution_count": 52,
   "metadata": {},
   "outputs": [],
   "source": [
    "x_axis = ['10kB.txt','500kB.txt','10MB.txt','20MB.txt','40MB.txt', '60MB.txt', '80MB.txt', '90MB.txt',  '100MB.txt']\n",
    "y_axis_copy = []\n",
    "y_axis_read = []\n",
    "for x in x_axis:\n",
    "        y_axis_copy.append(data_points[x]['Copy_Time'])\n",
    "        y_axis_read.append(data_points[x]['Read_Time'])\n",
    "        "
   ]
  },
  {
   "cell_type": "code",
   "execution_count": 53,
   "metadata": {},
   "outputs": [
    {
     "name": "stdout",
     "output_type": "stream",
     "text": [
      "Populating the interactive namespace from numpy and matplotlib\n"
     ]
    },
    {
     "data": {
      "text/plain": [
       "[<matplotlib.lines.Line2D at 0x7f1fdb5590d0>]"
      ]
     },
     "execution_count": 53,
     "metadata": {},
     "output_type": "execute_result"
    },
    {
     "data": {
      "image/png": "[encoded data removed]",
      "text/plain": [
       "<matplotlib.figure.Figure at 0x7f1fdb972ed0>"
      ]
     },
     "metadata": {
      "needs_background": "light"
     },
     "output_type": "display_data"
    }
   ],
   "source": [
    "# Copy time chart\n",
    "%pylab inline \n",
    "plt.figure(figsize=(10,5))\n",
    "plt.suptitle('Copying Time for each file size into external volume', fontsize=20)\n",
    "plt.xlabel('File Size/Name', fontsize=18)\n",
    "plt.ylabel('Time in seconds', fontsize=16)\n",
    "# will  make matplotlib/pylab available and plots will be displayed directly in the notebook, for example\n",
    "x = range(0,len(x_axis))\n",
    "plt.xticks(x, x_axis)\n",
    "plt.plot(x,y_axis_copy)\n"
   ]
  },
  {
   "cell_type": "code",
   "execution_count": 54,
   "metadata": {},
   "outputs": [
    {
     "name": "stdout",
     "output_type": "stream",
     "text": [
      "Populating the interactive namespace from numpy and matplotlib\n"
     ]
    },
    {
     "data": {
      "text/plain": [
       "[<matplotlib.lines.Line2D at 0x7f1fdb49e390>]"
      ]
     },
     "execution_count": 54,
     "metadata": {},
     "output_type": "execute_result"
    },
    {
     "data": {
      "image/png": "[encoded data removed]",
      "text/plain": [
       "<matplotlib.figure.Figure at 0x7f1fdba85290>"
      ]
     },
     "metadata": {
      "needs_background": "light"
     },
     "output_type": "display_data"
    }
   ],
   "source": [
    "# Copy time chart\n",
    "%pylab inline \n",
    "plt.figure(figsize=(10,5))\n",
    "plt.suptitle('Read Time for each file size', fontsize=20)\n",
    "plt.xlabel('File Size/Name', fontsize=18)\n",
    "plt.ylabel('Time in seconds', fontsize=16)\n",
    "# will  make matplotlib/pylab available and plots will be displayed directly in the notebook, for example\n",
    "x = range(0,len(x_axis))\n",
    "plt.xticks(x, x_axis)\n",
    "plt.plot(x,y_axis_read)\n"
   ]
  },
  {
   "cell_type": "markdown",
   "metadata": {},
   "source": [
    "Don't foget to terminate resources after your experiments. "
   ]
  },
  {
   "cell_type": "code",
   "execution_count": 38,
   "metadata": {},
   "outputs": [],
   "source": [
    "# Cleaning the external volume from all the copied files\n",
    "import glob, os\n",
    "for file in glob.glob(\"Volume1/*.txt\"):\n",
    "        os.remove(file)"
   ]
  }
 ],
 "metadata": {
  "kernelspec": {
   "display_name": "Python 2",
   "language": "python",
   "name": "python2"
  },
  "language_info": {
   "codemirror_mode": {
    "name": "ipython",
    "version": 2
   },
   "file_extension": ".py",
   "mimetype": "text/x-python",
   "name": "python",
   "nbconvert_exporter": "python",
   "pygments_lexer": "ipython2",
   "version": "2.7.12"
  }
 },
 "nbformat": 4,
 "nbformat_minor": 1
}
